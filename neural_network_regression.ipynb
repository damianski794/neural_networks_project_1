{
 "cells": [
  {
   "cell_type": "markdown",
   "metadata": {},
   "source": [
    "# SIECI NEURONOWE, PROJEKT 1\n",
    "#### Autorzy: Mikołaj Rzepiński, Damian Wysokiński"
   ]
  },
  {
   "cell_type": "code",
   "execution_count": 1,
   "metadata": {},
   "outputs": [],
   "source": [
    "import numpy as np\n",
    "import pandas as pd\n",
    "import matplotlib.pyplot as plt"
   ]
  },
  {
   "cell_type": "markdown",
   "metadata": {},
   "source": [
    "### Wybór liczby warstw i liczby węzłów w każdej warstwie\n",
    "\n",
    "Wybór liczby węzłów w warstwie zerowej (input layer) zależy od rodzaju problemu - czy mamy regresję, czy klasyfikację oraz od liczby kolumn z danymi pobieranymi z plików csv. Analogiczna sytuacja jest z ostatnią warstwą (output layer). Ponadto w warstwie ostatniej wybiera się funkcję aktywacji stosowną do problemu:\n",
    "- dla regresji (funkcja liniowa)\n",
    "- dla klasyfikacji (softmax, liczba węzłów zależna od liczby unikalnych wartości w zbiorze uczącym)"
   ]
  },
  {
   "cell_type": "markdown",
   "metadata": {},
   "source": [
    "##### Dla regresji\n",
    "\n",
    "Mamy 2 możliwości:\n",
    "- x - > y\n",
    "- x, y -> z"
   ]
  },
  {
   "cell_type": "code",
   "execution_count": 2,
   "metadata": {},
   "outputs": [],
   "source": [
    "regression_problem = True\n",
    "classification_problem = False"
   ]
  },
  {
   "cell_type": "code",
   "execution_count": 3,
   "metadata": {},
   "outputs": [
    {
     "name": "stdout",
     "output_type": "stream",
     "text": [
      "          x           y\n",
      "0 -1.519345 -246.176377\n",
      "1  0.144673 -139.145933\n",
      "2  3.209500  -11.609238\n",
      "3 -1.066817 -223.183756\n",
      "4  1.760798  -44.009923\n"
     ]
    },
    {
     "data": {
      "text/html": [
       "<div>\n",
       "<style scoped>\n",
       "    .dataframe tbody tr th:only-of-type {\n",
       "        vertical-align: middle;\n",
       "    }\n",
       "\n",
       "    .dataframe tbody tr th {\n",
       "        vertical-align: top;\n",
       "    }\n",
       "\n",
       "    .dataframe thead th {\n",
       "        text-align: right;\n",
       "    }\n",
       "</style>\n",
       "<table border=\"1\" class=\"dataframe\">\n",
       "  <thead>\n",
       "    <tr style=\"text-align: right;\">\n",
       "      <th></th>\n",
       "      <th>x</th>\n",
       "      <th>y</th>\n",
       "    </tr>\n",
       "  </thead>\n",
       "  <tbody>\n",
       "    <tr>\n",
       "      <th>0</th>\n",
       "      <td>-1.519345</td>\n",
       "      <td>-246.176377</td>\n",
       "    </tr>\n",
       "    <tr>\n",
       "      <th>1</th>\n",
       "      <td>0.144673</td>\n",
       "      <td>-139.145933</td>\n",
       "    </tr>\n",
       "    <tr>\n",
       "      <th>2</th>\n",
       "      <td>3.209500</td>\n",
       "      <td>-11.609238</td>\n",
       "    </tr>\n",
       "    <tr>\n",
       "      <th>3</th>\n",
       "      <td>-1.066817</td>\n",
       "      <td>-223.183756</td>\n",
       "    </tr>\n",
       "    <tr>\n",
       "      <th>4</th>\n",
       "      <td>1.760798</td>\n",
       "      <td>-44.009923</td>\n",
       "    </tr>\n",
       "  </tbody>\n",
       "</table>\n",
       "</div>"
      ],
      "text/plain": [
       "          x           y\n",
       "0 -1.519345 -246.176377\n",
       "1  0.144673 -139.145933\n",
       "2  3.209500  -11.609238\n",
       "3 -1.066817 -223.183756\n",
       "4  1.760798  -44.009923"
      ]
     },
     "execution_count": 3,
     "metadata": {},
     "output_type": "execute_result"
    }
   ],
   "source": [
    "#dodac dostosowanie do tego czy jest to plik do regresji czy klasyfikacji\n",
    "\n",
    "if(regression_problem):\n",
    "    regression_train_file = 'regression\\data.activation.train.100.csv' #jak działasz na linuxie to musisz dostosować \\ na /\n",
    "    regression_df = pd.read_csv(regression_train_file)\n",
    "    print(regression_df.head())\n",
    "    \n",
    "regression_df.head()"
   ]
  },
  {
   "cell_type": "code",
   "execution_count": 4,
   "metadata": {},
   "outputs": [],
   "source": [
    "if(regression_problem):\n",
    "    x_train = np.array(regression_df['x']).reshape(1,-1)\n",
    "    y_real = np.array(regression_df['y']).reshape(1,-1)"
   ]
  },
  {
   "cell_type": "code",
   "execution_count": 5,
   "metadata": {},
   "outputs": [
    {
     "data": {
      "text/plain": [
       "(100, 2)"
      ]
     },
     "execution_count": 5,
     "metadata": {},
     "output_type": "execute_result"
    }
   ],
   "source": [
    "regression_df.shape"
   ]
  },
  {
   "cell_type": "code",
   "execution_count": 6,
   "metadata": {},
   "outputs": [
    {
     "data": {
      "text/plain": [
       "(1, 100)"
      ]
     },
     "execution_count": 6,
     "metadata": {},
     "output_type": "execute_result"
    }
   ],
   "source": [
    "x_train.shape"
   ]
  },
  {
   "cell_type": "code",
   "execution_count": 7,
   "metadata": {
    "scrolled": true
   },
   "outputs": [
    {
     "data": {
      "text/plain": [
       "[{'n_nodes': 1, 'activation_function': None},\n",
       " {'n_nodes': 2, 'activation_function': 'relu'},\n",
       " {'n_nodes': 4, 'activation_function': 'relu'},\n",
       " {'n_nodes': 1, 'activation_function': 'linear'}]"
      ]
     },
     "execution_count": 7,
     "metadata": {},
     "output_type": "execute_result"
    }
   ],
   "source": [
    "if(regression_problem):\n",
    "    n_nodes_input_layer = 1\n",
    "elif(classification_problem):\n",
    "    n_nodes_input_layer = 2\n",
    "\n",
    "input_layer = [\n",
    "    {\n",
    "        \"n_nodes\": n_nodes_input_layer,\n",
    "        \"activation_function\": None\n",
    "    },\n",
    "]\n",
    "\n",
    "hidden_layers = [\n",
    "    {\n",
    "        \"n_nodes\": 2,\n",
    "        \"activation_function\": \"relu\"\n",
    "    },\n",
    "    {\n",
    "        \"n_nodes\": 4,\n",
    "        \"activation_function\": \"relu\"\n",
    "    },   \n",
    "]\n",
    "\n",
    "if(regression_problem):\n",
    "    n_nodes_output_layer = 1\n",
    "elif(classification_problem):\n",
    "    n_nodes_output_layer = 3\n",
    "    \n",
    "output_layer = [\n",
    "    {\n",
    "        \"n_nodes\": n_nodes_output_layer,\n",
    "        \"activation_function\": \"linear\"\n",
    "    }, ]\n",
    "\n",
    "layers = input_layer + hidden_layers + output_layer\n",
    "layers"
   ]
  },
  {
   "cell_type": "code",
   "execution_count": null,
   "metadata": {},
   "outputs": [],
   "source": []
  },
  {
   "cell_type": "markdown",
   "metadata": {},
   "source": [
    "W zależności od tego czy chcemy uwzględnić bias w sieci można zmieniać wartość include bias jako True/False"
   ]
  },
  {
   "cell_type": "code",
   "execution_count": 8,
   "metadata": {},
   "outputs": [],
   "source": [
    "include_bias = True"
   ]
  },
  {
   "cell_type": "code",
   "execution_count": 9,
   "metadata": {},
   "outputs": [],
   "source": [
    "def initialize_parameters(x_train, layers, include_bias = True):\n",
    "    # zwraca slownik z wagami i biasami np. parameters['w1'], parameters['b1']\n",
    "    #print(x_train.shape)\n",
    "    #print()\n",
    "    np.random.seed(42) # jeśli chcemy za każdym razem te same wyniki\n",
    "    \n",
    "    n_features = x_train.shape[0]\n",
    "    n_examples = x_train.shape[1]\n",
    "    \n",
    "    n_layers = len(layers) # 1 dla input layer, 1 dla output layer\n",
    "#     print(n_layers)\n",
    "    \n",
    "    parameters = {}\n",
    "    activation_values = {}\n",
    "    \n",
    "    \n",
    "    activation_values['0'] = x_train # wartosci x_train są jednocześnie wartościami aktywacji w zerwowej warstwie\n",
    "    \n",
    "    for n_layer in range(1,n_layers):\n",
    "        #print(n_layer)\n",
    "        #print(layers[n_layer])\n",
    "        parameters[\"W\" + str(n_layer)] = np.random.randn(layers[n_layer][\"n_nodes\"], layers[n_layer-1][\"n_nodes\"]) * 0.01 #wczesniej\n",
    "        if(include_bias):\n",
    "            parameters[\"b\" + str(n_layer)] = np.zeros((layers[n_layer][\"n_nodes\"],1))\n",
    "#         print(parameters[\"W\" + str(n_layer)])\n",
    "     \n",
    "#     print(parameters)\n",
    "    return parameters, activation_values"
   ]
  },
  {
   "cell_type": "code",
   "execution_count": 10,
   "metadata": {},
   "outputs": [],
   "source": [
    "parameters, activation_values = initialize_parameters(x_train,layers)"
   ]
  },
  {
   "cell_type": "code",
   "execution_count": 11,
   "metadata": {
    "scrolled": true
   },
   "outputs": [
    {
     "data": {
      "text/plain": [
       "{'W1': array([[ 0.00496714],\n",
       "        [-0.00138264]]),\n",
       " 'b1': array([[0.],\n",
       "        [0.]]),\n",
       " 'W2': array([[ 0.00647689,  0.0152303 ],\n",
       "        [-0.00234153, -0.00234137],\n",
       "        [ 0.01579213,  0.00767435],\n",
       "        [-0.00469474,  0.0054256 ]]),\n",
       " 'b2': array([[0.],\n",
       "        [0.],\n",
       "        [0.],\n",
       "        [0.]]),\n",
       " 'W3': array([[-0.00463418, -0.0046573 ,  0.00241962, -0.0191328 ]]),\n",
       " 'b3': array([[0.]])}"
      ]
     },
     "execution_count": 11,
     "metadata": {},
     "output_type": "execute_result"
    }
   ],
   "source": [
    "parameters"
   ]
  },
  {
   "cell_type": "code",
   "execution_count": 12,
   "metadata": {},
   "outputs": [
    {
     "data": {
      "text/plain": [
       "{'0': array([[-1.51934453,  0.1446731 ,  3.20949991, -1.06681652,  1.7607981 ,\n",
       "          1.70840608,  4.53553337,  3.0228904 , -1.10129773,  2.52267731,\n",
       "          4.823367  ,  2.84927674,  1.30866658,  4.27079203,  0.68625578,\n",
       "         -0.27886859,  0.2042488 ,  3.01805761,  2.00416261,  0.59999959,\n",
       "          3.80098822,  1.81778992,  4.70265148,  3.66821905,  1.90145948,\n",
       "         -0.34648432,  0.62812005,  1.46123206,  0.92681654,  2.22652618,\n",
       "          0.10110583, -1.52138493, -0.48022763,  1.7374457 ,  4.79876335,\n",
       "          2.83254081,  1.78726461,  3.35024563,  3.98594694,  4.37628621,\n",
       "          4.49568535,  0.81213534, -1.5886341 , -1.02623644,  3.53502416,\n",
       "          2.94771761, -0.31568944,  4.58435169, -1.2957231 ,  0.97205132,\n",
       "          2.37877606,  0.81705418,  4.13108753, -1.30679679,  0.79041549,\n",
       "         -0.98523628,  0.19673326, -1.11164594,  4.12027928, -1.93793277,\n",
       "         -1.15428563,  1.45886217,  2.19511646,  3.26670646,  1.1100335 ,\n",
       "          0.37652113,  0.15608049,  3.32476666, -1.71465448, -1.80027995,\n",
       "         -0.97015125,  3.17983189, -1.51201019,  2.31428388,  0.22145965,\n",
       "         -0.58950835, -0.82484989,  4.88403307,  3.22944994,  2.9858326 ,\n",
       "          3.27069612, -1.72186017, -1.00841581,  3.57095524,  3.04750199,\n",
       "         -0.00557951, -1.92928954,  4.73893034, -0.42615508,  3.54934468,\n",
       "          4.80380419,  0.93350789,  4.31570101,  4.0917049 ,  2.31347538,\n",
       "          4.64612168,  0.53708403,  3.21157187,  4.55099556,  4.49848548]])}"
      ]
     },
     "execution_count": 12,
     "metadata": {},
     "output_type": "execute_result"
    }
   ],
   "source": [
    "activation_values"
   ]
  },
  {
   "cell_type": "code",
   "execution_count": 13,
   "metadata": {},
   "outputs": [],
   "source": [
    "#g_values"
   ]
  },
  {
   "cell_type": "code",
   "execution_count": 14,
   "metadata": {},
   "outputs": [],
   "source": [
    "def z_forward(parameters, activation_values, z_values,  index_of_layer):\n",
    "    z_values[str(index_of_layer)] = np.dot(parameters['W' + str(index_of_layer)],\n",
    "                                                 activation_values[str(index_of_layer -1)]) + parameters['b' + str(index_of_layer)]\n",
    "#     print(parameters['Z'+str(index_of_layer)])\n",
    "#     print()\n",
    "#     print(parameters['Z'+str(index_of_layer)].shape)"
   ]
  },
  {
   "cell_type": "code",
   "execution_count": 15,
   "metadata": {},
   "outputs": [],
   "source": [
    "z_forward(parameters, activation_values, {'xd': 1}, 1)"
   ]
  },
  {
   "cell_type": "markdown",
   "metadata": {},
   "source": [
    "#### activation functions:"
   ]
  },
  {
   "cell_type": "code",
   "execution_count": 16,
   "metadata": {},
   "outputs": [],
   "source": [
    "def sigmoid(x):\n",
    "    return 1/(1+ np.exp(-x))\n",
    "\n",
    "def relu(x):\n",
    "    return np.maximum(0,x)\n",
    "\n",
    "def leaky_relu(x):\n",
    "    return np.maximum(0.1*x, x)\n",
    "\n",
    "def linear(x):\n",
    "    return x;\n",
    "\n",
    "# do zweryfikowania ze wzgledu na obliczanie wzgledem okreslonego wektora(axis)\n",
    "def softmax(x):\n",
    "    expo = np.exp(x)\n",
    "    expo_sum = np.sum(np.exp(x))\n",
    "    return expo/expo_sum"
   ]
  },
  {
   "cell_type": "code",
   "execution_count": 17,
   "metadata": {},
   "outputs": [],
   "source": [
    "def forward_with_activation(z, activation_values, activation_function, index):\n",
    "    if(activation_function == 'linear'):\n",
    "        activation_values[str(index)] = linear(z)\n",
    "        \n",
    "    elif(activation_function == 'sigmoid'):\n",
    "        activation_values[str(index)] = sigmoid(z)\n",
    "        \n",
    "    elif(activation_function == 'relu'):\n",
    "        activation_values[str(index)] = relu(z)\n",
    "        \n",
    "    elif(activation_function == 'leaky_relu'):\n",
    "        activation_values[str(index)] = leaky_relu(z)\n",
    "        \n",
    "    elif(activation_function == 'softmax'):\n",
    "        activation_values[str(index)] = softmax(z)"
   ]
  },
  {
   "cell_type": "code",
   "execution_count": 18,
   "metadata": {},
   "outputs": [],
   "source": [
    "def get_activation_functions(layers):\n",
    "    activation_functions = {}\n",
    "    for idx, layer in enumerate(layers):\n",
    "        activation_functions[str(idx)] = layer['activation_function']\n",
    "    \n",
    "    return activation_functions\n",
    "    "
   ]
  },
  {
   "cell_type": "code",
   "execution_count": 19,
   "metadata": {
    "scrolled": true
   },
   "outputs": [
    {
     "data": {
      "text/plain": [
       "{'0': None, '1': 'relu', '2': 'relu', '3': 'linear'}"
      ]
     },
     "execution_count": 19,
     "metadata": {},
     "output_type": "execute_result"
    }
   ],
   "source": [
    "get_activation_functions(layers)"
   ]
  },
  {
   "cell_type": "markdown",
   "metadata": {},
   "source": [
    "- **activation_values** to słownik zawierający: klucze -> numer warstwy, wartość -> macierz z wartościami aktywacji obliczonymi dla danej warstwy\n",
    "- **activation_functions** to słownik zawierający: klucze -> numer warstwy, wartość -> nazwa funkcji aktywacji dla danej warstwy"
   ]
  },
  {
   "cell_type": "code",
   "execution_count": 20,
   "metadata": {},
   "outputs": [],
   "source": [
    "def all_layers_forward_propagation(parameters, activation_values, activation_functions, z_values, no_of_layers):\n",
    "    for idx in range(1, no_of_layers):\n",
    "        z_forward(parameters, activation_values, z_values,  idx)\n",
    "        forward_with_activation(z_values[str(idx)], activation_values, activation_functions[str(idx)], idx)\n",
    "        #print('')"
   ]
  },
  {
   "cell_type": "code",
   "execution_count": 21,
   "metadata": {},
   "outputs": [],
   "source": [
    "def linear_derivative():\n",
    "    return 1\n",
    "\n",
    "def relu_derivative(x):\n",
    "    x[x<=0] = 0\n",
    "    x[x>0] = 1\n",
    "    return x\n",
    "\n",
    "def leaky_relu_derivative(x):\n",
    "    x[x<=0] = 0.1\n",
    "    x[x>0] = 1\n",
    "    return x\n",
    "\n",
    "def sigmoid_derivative(x):\n",
    "    return sigmoid(x) * (1 - sigmoid(x))\n",
    "\n",
    "def softmax_derivative(x):\n",
    "    #to be implemented\n",
    "    pass\n"
   ]
  },
  {
   "cell_type": "code",
   "execution_count": 22,
   "metadata": {},
   "outputs": [],
   "source": [
    "def all_layers_back_propagation_hardcoded(y_true, parameters, gradients, activation_values, activation_functions, z_values, no_of_layers):\n",
    "    \n",
    "    m = y_true.shape[1]\n",
    "    \n",
    "    # WARSTWA 3\n",
    "    gradients['dZ3'] = (activation_values['3'] - y_true) * 1 # 1 bo to pochodna funkcji liniowej\n",
    "    gradients['dW3'] = 1/m * np.dot(gradients['dZ3'], activation_values['2'].T)\n",
    "    gradients['db3'] = 1/m * np.sum(gradients['dZ3'], axis=1, keepdims=True)\n",
    "    \n",
    "    # WARSTWA 2\n",
    "    gradients['dZ2'] = np.dot(parameters['W3'].T, gradients['dZ3']) * relu_derivative(activation_values['2']) \n",
    "    gradients['dW2'] = 1/m * np.dot(gradients['dZ2'], activation_values['1'].T)\n",
    "    gradients['db2'] = 1/m * np.sum(gradients['dZ2'], axis=1, keepdims=True)\n",
    "    \n",
    "    # WARSTWA 1\n",
    "    gradients['dZ1'] = np.dot(parameters['W2'].T, gradients['dZ2']) * relu_derivative(activation_values['1']) \n",
    "    gradients['dW1'] = 1/m * np.dot(gradients['dZ1'], activation_values['0'].T)\n",
    "    gradients['db1'] = 1/m * np.sum(gradients['dZ1'], axis=1, keepdims=True)\n",
    "    \n",
    "   \n",
    "    \n",
    "    \n",
    "    \n",
    "    \n",
    "    \n",
    "    \n",
    "    "
   ]
  },
  {
   "cell_type": "code",
   "execution_count": 41,
   "metadata": {},
   "outputs": [],
   "source": [
    "def last_layer_back_propagation(gradients, activation_values, activation_functions, z_values, error_type, index, y_true):\n",
    "    m = y_true.shape[1]\n",
    "    \n",
    "    if(activation_functions[str(index)] == 'linear'):\n",
    "        #print('calling last layer, linear activation', 'index:', index)\n",
    "        activation_function_derivative = linear_derivative()\n",
    "        \n",
    "    elif(activation_functions[str(index)] == 'relu'):\n",
    "        activation_function_derivative = relu_derivative(activation_values[str(index)])\n",
    "        \n",
    "    elif(activation_functions[str(index)] == 'leaky_relu'):\n",
    "        activation_function_derivative = leaky_relu_derivative(activation_values[str(index)])\n",
    "    \n",
    "    if(error_type == 'MSE'):\n",
    "        #print('activation_function_derivative w ostatniej warstwie  - automated')\n",
    "        #print(activation_function_derivative)\n",
    "        \n",
    "        gradients['dZ' + str(index)] = (activation_values[str(index)] - y_true) * activation_function_derivative \n",
    "#     print(\"gradients['dZ3'].shape\", gradients['dZ3'].shape)\n",
    "        gradients['dW' + str(index)] = 1/m * np.dot(gradients['dZ'+str(index)], activation_values[str(index - 1)].T)\n",
    "        gradients['db' + str(index)] = 1/m * np.sum(gradients['dZ'+str(index)], axis=1, keepdims=True)"
   ]
  },
  {
   "cell_type": "code",
   "execution_count": 24,
   "metadata": {},
   "outputs": [],
   "source": [
    "def mid_layer_back_propagation(gradients, activation_values, activation_functions, z_values, error_type, index, y_true):\n",
    "    m = y_true.shape[1]\n",
    "    \n",
    "    if(activation_functions[str(index)] == 'linear'):\n",
    "        activation_function_derivative = linear_derivative()\n",
    "        \n",
    "    elif(activation_functions[str(index)] == 'relu'):\n",
    "        #print('calling mid layer, relu activation', 'index:', index)\n",
    "        activation_function_derivative = relu_derivative(activation_values[str(index)])\n",
    "        \n",
    "    elif(activation_functions[str(index)] == 'leaky_relu'):\n",
    "        activation_function_derivative = leaky_relu_derivative(activation_values[str(index)])\n",
    "    \n",
    "     # WARSTWA 1 lub 2\n",
    "        #index = 1 lub 2\n",
    "    if(error_type == 'MSE'):\n",
    "        gradients['dZ' + str(index)] = np.dot(parameters['W'+str(index + 1)].T, gradients['dZ'+str(index+1)]) #* relu_derivative(activation_values[str(index)])#activation_function_derivative\n",
    "#     print(\"gradients['dZ3'].shape\", gradients['dZ3'].shape)\n",
    "        gradients['dW'+str(index)] = 1/m * np.dot(gradients['dZ'+str(index)], activation_values[str(index - 1)].T)\n",
    "        gradients['db'+str(index)] = 1/m * np.sum(gradients['dZ'+str(index)], axis=1, keepdims=True)"
   ]
  },
  {
   "cell_type": "code",
   "execution_count": 25,
   "metadata": {},
   "outputs": [],
   "source": [
    "def mid_layer_back_propagation_vol_two(gradients, activation_values, activation_functions, z_values, error_type, index, y_true):\n",
    "    \n",
    "    \n",
    "    m = y_true.shape[1]\n",
    "    \n",
    "    \n",
    "    if(error_type == 'MSE'):\n",
    "        gradients['dZ'+str(index)] = np.dot(parameters['W'+str(index + 1)].T, gradients['dZ'+str(index + 1)])  *relu_derivative(activation_values[str(index)])\n",
    "        gradients['dW'+str(index)] = 1/m * np.dot(gradients['dZ'+str(index)], activation_values[str(index - 1)].T)\n",
    "        gradients['db'+str(index)] = 1/m * np.sum(gradients['dZ'+str(index)], axis=1, keepdims=True)\n",
    "    \n",
    "    \n",
    "    \n",
    "   # gradients['dZ1'] = np.dot(parameters['W2'].T, gradients['dZ2']) * relu_derivative(activation_values['1']) \n",
    "   # gradients['dW1'] = 1/m * np.dot(gradients['dZ1'], activation_values['0'].T)\n",
    "   # gradients['db1'] = 1/m * np.sum(gradients['dZ1'], axis=1, keepdims=True)\n",
    "    \n",
    "    \n",
    "     # WARSTWA 1\n",
    "    #gradients['dZ1'] = np.dot(parameters['W2'].T, gradients['dZ2']) #* relu_derivative(activation_values['1']) \n",
    "#     print(\"gradients['dZ3'].shape\", gradients['dZ3'].shape)\n",
    "    #gradients['dW1'] = 1/m * np.dot(gradients['dZ1'], activation_values['0'].T)\n",
    "    #gradients['db1'] = 1/m * np.sum(gradients['dZ1'], axis=1, keepdims=True)"
   ]
  },
  {
   "cell_type": "code",
   "execution_count": 26,
   "metadata": {},
   "outputs": [],
   "source": [
    "def all_layers_back_propagation_automated(y_true, parameters, gradients, activation_values, activation_functions, z_values, no_of_layers):\n",
    "    \n",
    "    m = y_true.shape[1]\n",
    "    \n",
    "    for i in reversed(range(1,no_of_layers)):\n",
    "        \n",
    "        if(i == no_of_layers - 1):\n",
    "            last_layer_back_propagation(gradients, activation_values, activation_functions,z_values,'MSE',i,y_true)\n",
    "        \n",
    "        else:\n",
    "            mid_layer_back_propagation_vol_two(gradients,activation_values,activation_functions,z_values,'MSE',i,y_true)\n",
    "        \n",
    "    \n",
    "            \n",
    "            \n",
    "            # WARSTWA 1\n",
    "    #gradients['dZ1'] = np.dot(parameters['W2'].T, gradients['dZ2']) * relu_derivative(activation_values['1']) \n",
    "#     print(\"gradients['dZ3'].shape\", gradients['dZ3'].shape)\n",
    "    #gradients['dW1'] = 1/m * np.dot(gradients['dZ1'], activation_values['0'].T)\n",
    "    #gradients['db1'] = 1/m * np.sum(gradients['dZ1'], axis=1, keepdims=True)\n",
    "\n",
    "            \n",
    "            \n",
    "#     gradients['dZ2'] = np.dot(parameters['W3'].T, gradients['dZ3']) * relu_derivative(z_values['2'])\n",
    "#     print(\"gradients['dZ3'].shape\", gradients['dZ3'].shape)\n",
    "#     gradients['dW2'] = 1/m * np.dot(gradients['dZ2'], activation_values['1'].T)\n",
    "#     gradients['db2'] = 1/m * np.sum(gradients['dZ2'], axis=1, keepdims=True)\n",
    "    \n",
    "    # WARSTWA 1\n",
    "#     gradients['dZ1'] = np.dot(parameters['W2'].T, gradients['dZ2']) * relu_derivative(z_values['1'])\n",
    "#     print(\"gradients['dZ3'].shape\", gradients['dZ3'].shape)\n",
    "#     gradients['dW1'] = 1/m * np.dot(gradients['dZ1'], activation_values['0'].T)\n",
    "#     gradients['db1'] = 1/m * np.sum(gradients['dZ1'], axis=1, keepdims=True)"
   ]
  },
  {
   "cell_type": "code",
   "execution_count": 27,
   "metadata": {},
   "outputs": [],
   "source": [
    "def calculate_error(y_hat, y_true, error_type = None):\n",
    "#     print('y_hat')\n",
    "#     print(y_hat)\n",
    "#     print('------')\n",
    "#     print('y_true')\n",
    "#     print(y_true)\n",
    "    \n",
    "    n_examples = y_hat.shape[1]\n",
    "    \n",
    "#     print('n_examples:', n_examples)\n",
    "    if(error_type == 'MSE'):\n",
    "#         print('srednie y_true:', 1/n_examples*np.sum(np.abs(y_true)))\n",
    "        \n",
    "#         print('MSE')\n",
    "        #print('MSE value:', 1/n_examples * np.sum((y_true - y_hat)**2))\n",
    "        #print('MSE error: ', 1/n_examples * np.sum((y_true - y_hat)**2))\n",
    "        return 1/n_examples * np.sum((y_true - y_hat)**2)"
   ]
  },
  {
   "cell_type": "code",
   "execution_count": 28,
   "metadata": {},
   "outputs": [],
   "source": [
    "def print_activation_values(activation_values):\n",
    "    for key, value in activation_values.items():\n",
    "        print(key)\n",
    "        print(value.shape)\n",
    "        print(value)\n",
    "        print('liczba wartosci wiekszych niz 0', np.sum(value > 1))\n",
    "        print(\"-------\")\n",
    "        \n",
    "        if(key == '3'):\n",
    "            print('xdddddd')"
   ]
  },
  {
   "cell_type": "code",
   "execution_count": 29,
   "metadata": {},
   "outputs": [],
   "source": [
    "def update_parameters(parameters, gradients, no_of_layers, learning_rate = 0.001):\n",
    "    \n",
    "    for i in range(1,no_of_layers):\n",
    "        parameters['W' + str(i)] += - learning_rate * gradients['dW'+str(i)]\n",
    "        parameters['b' + str(i)] += -learning_rate * gradients['db' + str(i)]"
   ]
  },
  {
   "cell_type": "code",
   "execution_count": 42,
   "metadata": {},
   "outputs": [],
   "source": [
    "def neural_network_regression(x_train, y_train, layers, no_of_iterations = 5000, include_bias = True, error_type='MSE'):\n",
    "    parameters , activation_values = initialize_parameters(x_train, layers, include_bias)\n",
    "    \n",
    "    g_values = {}\n",
    "    g_prime_values = {}\n",
    "    activation_functions = get_activation_functions(layers) # {'0': 'relu', '1': 'sigmoid', ...}\n",
    "    z_values = {}\n",
    "    gradients = {}\n",
    "    losses = []\n",
    "    \n",
    "    no_of_layers = len(layers)\n",
    "    \n",
    "    for i in range(1, 5000): \n",
    "        all_layers_forward_propagation(parameters, activation_values, activation_functions, z_values, no_of_layers)\n",
    "        \n",
    "        #if(i%50 == 0):\n",
    "        losses.append(calculate_error(activation_values[str(no_of_layers - 1)], y_train, error_type))\n",
    "        #all_layers_back_propagation_hardcoded(y_train,parameters, gradients, activation_values, activation_functions, z_values, no_of_layers)\n",
    "        all_layers_back_propagation_automated(y_train,parameters,gradients,activation_values,activation_functions,z_values,no_of_layers)\n",
    "        update_parameters(parameters,gradients,no_of_layers)\n",
    "        \n",
    "    #print(losses)\n",
    "   # print_activation_values(activation_values)\n",
    "    print('ostatni blad po pierwiastkowaniu: ', np.sqrt(losses[-1]))\n",
    "    \n",
    "    #plt.figure(figsize=(20,10))\n",
    "    plt.plot(losses[100:])\n",
    "    #plt.plot(losses)\n",
    "    plt.show()\n",
    "    \n",
    "    return parameters\n",
    "    "
   ]
  },
  {
   "cell_type": "code",
   "execution_count": 43,
   "metadata": {
    "scrolled": true
   },
   "outputs": [
    {
     "name": "stdout",
     "output_type": "stream",
     "text": [
      "ostatni blad po pierwiastkowaniu:  88.57438918842027\n"
     ]
    },
    {
     "data": {
      "image/png": "[encoded data removed]",
      "text/plain": [
       "<Figure size 432x288 with 1 Axes>"
      ]
     },
     "metadata": {
      "needs_background": "light"
     },
     "output_type": "display_data"
    }
   ],
   "source": [
    "# x_train, layers, no_of_iterations = 5001, include_bias = True\n",
    "new_parameters = neural_network_regression(x_train, y_real, layers, no_of_iterations = 5000, include_bias = include_bias) \n",
    "#zmienic drugi parametr na y_train gdy będzie znany\n"
   ]
  },
  {
   "cell_type": "code",
   "execution_count": 32,
   "metadata": {},
   "outputs": [
    {
     "data": {
      "text/plain": [
       "{'W1': array([[ 0.00496714],\n",
       "        [-0.00138264]]),\n",
       " 'b1': array([[0.],\n",
       "        [0.]]),\n",
       " 'W2': array([[ 0.00647689,  0.0152303 ],\n",
       "        [-0.00234153, -0.00234137],\n",
       "        [ 0.01579213,  0.00767435],\n",
       "        [-0.00469474,  0.0054256 ]]),\n",
       " 'b2': array([[0.],\n",
       "        [0.],\n",
       "        [0.],\n",
       "        [0.]]),\n",
       " 'W3': array([[-0.00463418, -0.0046573 ,  0.00241962, -0.0191328 ]]),\n",
       " 'b3': array([[0.]])}"
      ]
     },
     "execution_count": 32,
     "metadata": {},
     "output_type": "execute_result"
    }
   ],
   "source": [
    "parameters"
   ]
  },
  {
   "cell_type": "code",
   "execution_count": 33,
   "metadata": {},
   "outputs": [
    {
     "data": {
      "text/plain": [
       "{'W1': array([[ 1.23709384],\n",
       "        [-1.71293573]]),\n",
       " 'b1': array([[1.14956892],\n",
       "        [2.67216441]]),\n",
       " 'W2': array([[-2.82066400e-01,  7.84714644e-01],\n",
       "        [-2.34153375e-03, -2.34136957e-03],\n",
       "        [ 6.94074494e-01,  8.44468267e-02],\n",
       "        [-1.51320549e+00,  3.06701223e+00]]),\n",
       " 'b2': array([[ 2.19381995],\n",
       "        [ 0.        ],\n",
       "        [-0.11550463],\n",
       "        [ 8.50652144]]),\n",
       " 'W3': array([[-2.32622141e+00, -4.65729754e-03,  7.08448304e-01,\n",
       "         -9.08354606e+00]]),\n",
       " 'b3': array([[-6.13831809]])}"
      ]
     },
     "execution_count": 33,
     "metadata": {},
     "output_type": "execute_result"
    }
   ],
   "source": [
    "new_parameters"
   ]
  },
  {
   "cell_type": "code",
   "execution_count": 34,
   "metadata": {},
   "outputs": [],
   "source": [
    "def predict_regression(parameters, x_test):\n",
    "    pass"
   ]
  },
  {
   "cell_type": "code",
   "execution_count": 35,
   "metadata": {},
   "outputs": [],
   "source": [
    "#if(regression_problem):\n",
    " #   predict_regression(parameters, x_test)"
   ]
  }
 ],
 "metadata": {
  "kernelspec": {
   "display_name": "Python 3",
   "language": "python",
   "name": "python3"
  },
  "language_info": {
   "codemirror_mode": {
    "name": "ipython",
    "version": 3
   },
   "file_extension": ".py",
   "mimetype": "text/x-python",
   "name": "python",
   "nbconvert_exporter": "python",
   "pygments_lexer": "ipython3",
   "version": "3.7.9"
  }
 },
 "nbformat": 4,
 "nbformat_minor": 4
}
