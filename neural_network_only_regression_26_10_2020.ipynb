{
 "cells": [
  {
   "cell_type": "markdown",
   "metadata": {},
   "source": [
    "# SIECI NEURONOWE, PROJEKT 1\n",
    "#### Autorzy: Mikołaj Rzepiński, Damian Wysokiński\n",
    "\n",
    "#### Siec dla regresji"
   ]
  },
  {
   "cell_type": "code",
   "execution_count": 1,
   "metadata": {},
   "outputs": [],
   "source": [
    "import numpy as np\n",
    "import pandas as pd\n",
    "import matplotlib.pyplot as plt"
   ]
  },
  {
   "cell_type": "code",
   "execution_count": 2,
   "metadata": {},
   "outputs": [],
   "source": [
    "from datetime import datetime\n",
    "now = datetime.now().strftime(\"%Y-%m-%d___%H-%M-%S\")"
   ]
  },
  {
   "cell_type": "code",
   "execution_count": 3,
   "metadata": {},
   "outputs": [],
   "source": [
    "include_bias = True # True lub False\n",
    "error_type = 'MSE'  #'MSE' lub 'MAE' "
   ]
  },
  {
   "cell_type": "code",
   "execution_count": 4,
   "metadata": {},
   "outputs": [],
   "source": [
    "\n",
    "#'data.activation.train.1000.csv'\n",
    "#'data.cube.train.100.csv'\n",
    "# 'data.linear.train.500.csv'\n",
    "# 'data.multimodal.train.500.csv'\n",
    "# 'data.square.train.500.csv'\n",
    "regression_train_file = 'regression\\data.square.train.500.csv' \n",
    "regression_df = pd.read_csv(regression_train_file)\n",
    "\n",
    "    \n",
    "# ''\n",
    "#'data.activation.test.1000.csv'\n",
    "#'data.cube.test.100.csv'\n",
    "# 'data.linear.test.500.csv'\n",
    "# 'data.multimodal.test.500.csv'\n",
    "# 'data.square.train.500.csv'\n",
    "\n",
    "regression_test_file = 'regression\\data.square.train.500.csv'\n",
    "regression_test_df = pd.read_csv(regression_test_file)\n",
    "    "
   ]
  },
  {
   "cell_type": "code",
   "execution_count": 5,
   "metadata": {},
   "outputs": [],
   "source": [
    "x_train = np.array(regression_df['x']).reshape(1,-1)\n",
    "y_train = np.array(regression_df['y']).reshape(1,-1)\n",
    "    \n",
    "x_test = np.array(regression_test_df['x']).reshape(1,-1)\n",
    "y_test = np.array(regression_test_df['y']).reshape(1,-1)"
   ]
  },
  {
   "cell_type": "code",
   "execution_count": 6,
   "metadata": {
    "scrolled": true
   },
   "outputs": [
    {
     "data": {
      "text/plain": [
       "[{'n_nodes': 1, 'activation_function': None},\n",
       " {'n_nodes': 12, 'activation_function': 'relu'},\n",
       " {'n_nodes': 1, 'activation_function': 'linear'}]"
      ]
     },
     "execution_count": 6,
     "metadata": {},
     "output_type": "execute_result"
    }
   ],
   "source": [
    "n_nodes_input_layer = 1\n",
    "output_layer_activation_function = \"linear\"\n",
    "\n",
    "input_layer = [\n",
    "    {\n",
    "        \"n_nodes\": n_nodes_input_layer,\n",
    "        \"activation_function\": None\n",
    "    },\n",
    "]\n",
    "\n",
    "hidden_layers = [\n",
    "    {\n",
    "        \"n_nodes\": 12,\n",
    "        \"activation_function\": \"relu\"\n",
    "    },\n",
    "    #{\n",
    "     #   \"n_nodes\": 12,\n",
    "     #   \"activation_function\": \"relu\"\n",
    "    #},\n",
    "    #{\n",
    "     #   \"n_nodes\": 12,\n",
    "     #   \"activation_function\": \"relu\"\n",
    "    #}#,\n",
    "    #{\n",
    "    #   \"n_nodes\": 6,\n",
    "    #    \"activation_function\": \"relu\"\n",
    "    #}   \n",
    "]\n",
    "\n",
    "\n",
    "n_nodes_output_layer = 1\n",
    "    \n",
    "output_layer = [\n",
    "    {\n",
    "        \"n_nodes\": n_nodes_output_layer,\n",
    "        \"activation_function\": output_layer_activation_function\n",
    "    }, ]\n",
    "\n",
    "layers = input_layer + hidden_layers + output_layer\n",
    "layers"
   ]
  },
  {
   "cell_type": "code",
   "execution_count": 7,
   "metadata": {},
   "outputs": [],
   "source": [
    "def initialize_parameters(x_train, layers):\n",
    "    \n",
    "    #np.random.seed(42) # jeśli chcemy za każdym razem te same wyniki\n",
    "    \n",
    "    n_features = x_train.shape[0]\n",
    "    n_examples = x_train.shape[1]\n",
    "    \n",
    "    n_layers = len(layers) \n",
    "    \n",
    "    parameters = {}\n",
    "    activation_values = {}\n",
    "    \n",
    "    \n",
    "    activation_values['0'] = x_train \n",
    "    \n",
    "    for n_layer in range(1,n_layers):\n",
    "\n",
    "        parameters[\"W\" + str(n_layer)] = np.random.randn(layers[n_layer][\"n_nodes\"], layers[n_layer-1][\"n_nodes\"]) * 0.01 #wczesniej 0.01\n",
    "        if(include_bias):\n",
    "            parameters[\"b\" + str(n_layer)] = np.zeros((layers[n_layer][\"n_nodes\"],1))\n",
    "\n",
    "    return parameters, activation_values"
   ]
  },
  {
   "cell_type": "code",
   "execution_count": 8,
   "metadata": {},
   "outputs": [],
   "source": [
    "def z_forward(parameters, activation_values, z_values, index_of_layer):\n",
    "    if(include_bias):\n",
    "        z_values[str(index_of_layer)] = np.dot(parameters['W' + str(index_of_layer)],\n",
    "                                               activation_values[str(index_of_layer -1)]) + parameters['b' + str(index_of_layer)]\n",
    "    else:\n",
    "        z_values[str(index_of_layer)] = np.dot(parameters['W' + str(index_of_layer)],\n",
    "                                               activation_values[str(index_of_layer -1)])"
   ]
  },
  {
   "cell_type": "markdown",
   "metadata": {},
   "source": [
    "#### activation functions:"
   ]
  },
  {
   "cell_type": "code",
   "execution_count": 9,
   "metadata": {},
   "outputs": [],
   "source": [
    "def sigmoid(x):\n",
    "    return 1/(1 + np.exp(-x))\n",
    "\n",
    "def relu(x):\n",
    "    return np.maximum(0,x)\n",
    "\n",
    "def leaky_relu(x):\n",
    "    return np.maximum(0.1*x, x)\n",
    "\n",
    "def linear(x):\n",
    "    return x"
   ]
  },
  {
   "cell_type": "code",
   "execution_count": 10,
   "metadata": {},
   "outputs": [],
   "source": [
    "def forward_with_activation(z, activation_values, activation_function, index):\n",
    "    if(activation_function == 'linear'):\n",
    "        activation_values[str(index)] = linear(z)\n",
    "        \n",
    "    elif(activation_function == 'sigmoid'):\n",
    "        activation_values[str(index)] = sigmoid(z)\n",
    "        \n",
    "    elif(activation_function == 'relu'):\n",
    "        activation_values[str(index)] = relu(z)\n",
    "        \n",
    "    elif(activation_function == 'leaky_relu'):\n",
    "        activation_values[str(index)] = leaky_relu(z)\n",
    "        \n",
    "    elif(activation_function == 'softmax'):\n",
    "        activation_values[str(index)] = softmax(z)"
   ]
  },
  {
   "cell_type": "code",
   "execution_count": 11,
   "metadata": {},
   "outputs": [],
   "source": [
    "def get_activation_functions(layers):\n",
    "    activation_functions = {}\n",
    "    for idx, layer in enumerate(layers):\n",
    "        activation_functions[str(idx)] = layer['activation_function']\n",
    "    \n",
    "    return activation_functions\n",
    "    "
   ]
  },
  {
   "cell_type": "code",
   "execution_count": 12,
   "metadata": {},
   "outputs": [],
   "source": [
    "def all_layers_forward_propagation(parameters, activation_values, activation_functions, z_values, no_of_layers):\n",
    "    for idx in range(1, no_of_layers):\n",
    "        z_forward(parameters, activation_values, z_values,  idx)\n",
    "        forward_with_activation(z_values[str(idx)], activation_values, activation_functions[str(idx)], idx)\n",
    "        \n",
    "    \n",
    "    return activation_values[str(no_of_layers - 1)]"
   ]
  },
  {
   "cell_type": "code",
   "execution_count": 13,
   "metadata": {},
   "outputs": [],
   "source": [
    "def linear_derivative():\n",
    "    return 1\n",
    "\n",
    "def relu_derivative(x):\n",
    "    x[x<=0] = 0\n",
    "    x[x>0] = 1\n",
    "    return x\n",
    "\n",
    "def leaky_relu_derivative(x):\n",
    "    x[x<=0] = 0.1\n",
    "    x[x>0] = 1\n",
    "    return x\n",
    "\n",
    "def sigmoid_derivative(x):\n",
    "    return sigmoid(x) * (1 - sigmoid(x))\n"
   ]
  },
  {
   "cell_type": "code",
   "execution_count": 14,
   "metadata": {},
   "outputs": [],
   "source": [
    "def MAE_derivative(activation_value, y_true):\n",
    "    \n",
    "    diff = np.zeros(activation_value.shape)\n",
    "    diff[activation_value >= y_true] = 1\n",
    "    diff[activation_value < y_true] = -1\n",
    "    \n",
    "    return diff"
   ]
  },
  {
   "cell_type": "code",
   "execution_count": 15,
   "metadata": {},
   "outputs": [],
   "source": [
    "def last_layer_back_propagation(gradients, activation_values, activation_functions, z_values, index, y_true):\n",
    "    m = y_true.shape[1]\n",
    "    \n",
    "    if(activation_functions[str(index)] == 'linear'):\n",
    "        activation_function_derivative = linear_derivative()\n",
    "        \n",
    "    elif(activation_functions[str(index)] == 'relu'):\n",
    "        activation_function_derivative = relu_derivative(activation_values[str(index)])\n",
    "        \n",
    "    elif(activation_functions[str(index)] == 'leaky_relu'):\n",
    "        activation_function_derivative = leaky_relu_derivative(activation_values[str(index)])\n",
    "    \n",
    "    if(error_type == 'MSE'):\n",
    "        gradients['dZ' + str(index)] = (activation_values[str(index)] - y_true) * activation_function_derivative \n",
    "\n",
    "    elif(error_type == 'MAE'): \n",
    "        gradients['dZ' + str(index)] = MAE_derivative(activation_values[str(index)], y_true) * activation_function_derivative\n",
    "        \n",
    "    gradients['dW' + str(index)] = 1/m * np.dot(gradients['dZ'+str(index)], activation_values[str(index - 1)].T)\n",
    "    if(include_bias):\n",
    "        gradients['db' + str(index)] = 1/m * np.sum(gradients['dZ'+str(index)], axis=1, keepdims=True)"
   ]
  },
  {
   "cell_type": "code",
   "execution_count": 16,
   "metadata": {},
   "outputs": [],
   "source": [
    "def mid_layer_back_propagation(parameters, gradients, activation_values, activation_functions, z_values, index, y_true):  \n",
    "    m = y_true.shape[1]\n",
    "    \n",
    "    if(activation_functions[str(index)] == 'linear'):\n",
    "        activation_function_derivative = linear_derivative()\n",
    "        \n",
    "    elif(activation_functions[str(index)] == 'relu'):\n",
    "        activation_function_derivative = relu_derivative(activation_values[str(index)])\n",
    "        \n",
    "    elif(activation_functions[str(index)] == 'leaky_relu'):\n",
    "        \n",
    "        activation_function_derivative = leaky_relu_derivative(activation_values[str(index)])\n",
    "    \n",
    "    elif(activation_functions[str(index)] == 'sigmoid'):\n",
    "        activation_function_derivative = sigmoid_derivative(activation_values[str(index)])\n",
    "        \n",
    "    \n",
    "    if(error_type == 'MSE' or error_type == 'MAE'):    \n",
    "        gradients['dZ'+str(index)] = np.dot(parameters['W'+str(index + 1)].T, gradients['dZ'+str(index + 1)])  * activation_function_derivative#relu_derivative(activation_values[str(index)])\n",
    "    \n",
    "    gradients['dW'+str(index)] = 1/m * np.dot(gradients['dZ'+str(index)], activation_values[str(index - 1)].T)\n",
    "    if(include_bias):\n",
    "        gradients['db'+str(index)] = 1/m * np.sum(gradients['dZ'+str(index)], axis=1, keepdims=True)\n",
    "\n",
    "   "
   ]
  },
  {
   "cell_type": "code",
   "execution_count": 17,
   "metadata": {},
   "outputs": [],
   "source": [
    "def all_layers_back_propagation(y_true, parameters, gradients, activation_values, activation_functions, z_values, no_of_layers):\n",
    "    \n",
    "    m = y_true.shape[1]\n",
    "    for i in reversed(range(1,no_of_layers)):\n",
    "        \n",
    "        if(i == no_of_layers - 1):            \n",
    "            last_layer_back_propagation(gradients, activation_values, activation_functions,z_values,i,y_true)\n",
    "        \n",
    "        else:\n",
    "            mid_layer_back_propagation(parameters,gradients,activation_values,activation_functions,z_values,i,y_true)\n",
    "            "
   ]
  },
  {
   "cell_type": "code",
   "execution_count": 18,
   "metadata": {},
   "outputs": [],
   "source": [
    "def calculate_error(y_hat, y_true):\n",
    "    \n",
    "    n_examples = y_hat.shape[1]\n",
    "    \n",
    "    if(error_type == 'MSE'):\n",
    "        return 1/n_examples * np.sum((y_true - y_hat)**2)\n",
    "    elif(error_type == 'MAE'):\n",
    "        return 1/n_examples * np.sum(np.abs(y_true - y_hat))"
   ]
  },
  {
   "cell_type": "code",
   "execution_count": 19,
   "metadata": {},
   "outputs": [],
   "source": [
    "def update_parameters(parameters, gradients, no_of_layers, learning_rate = 0.001):#0.001\n",
    "    \n",
    "    for i in range(1,no_of_layers):\n",
    "        parameters['W' + str(i)] -= learning_rate * gradients['dW'+str(i)]\n",
    "        if(include_bias):\n",
    "            parameters['b' + str(i)] -= learning_rate * gradients['db' + str(i)]"
   ]
  },
  {
   "cell_type": "code",
   "execution_count": 20,
   "metadata": {},
   "outputs": [],
   "source": [
    "def neural_network_regression(x_train, y_train, layers, no_of_iterations = 5000):\n",
    "    parameters , activation_values = initialize_parameters(x_train, layers)\n",
    "    \n",
    "    g_values = {}\n",
    "    g_prime_values = {}\n",
    "    activation_functions = get_activation_functions(layers) # {'0': 'relu', '1': 'sigmoid', ...}\n",
    "    z_values = {}\n",
    "    gradients = {}\n",
    "    losses = []\n",
    "    \n",
    "    no_of_layers = len(layers)\n",
    "    \n",
    "    for i in range(1,no_of_iterations):\n",
    "        \n",
    "        all_layers_forward_propagation(parameters, activation_values, activation_functions, z_values, no_of_layers)\n",
    "        \n",
    "        losses.append(calculate_error(activation_values[str(no_of_layers - 1)], y_train))\n",
    "        \n",
    "        all_layers_back_propagation(y_train,parameters,gradients,activation_values,activation_functions,z_values,no_of_layers)\n",
    "        update_parameters(parameters,gradients,no_of_layers)\n",
    "    \n",
    "    if(error_type == 'MSE'):\n",
    "        print('ostatni blad po pierwiastkowaniu: ', np.sqrt(losses[-1]))\n",
    "    elif(error_type == 'MAE'):\n",
    "        print('ostatni blad MAE: ', losses[-1])\n",
    "    \n",
    "    plt.plot(losses[:])\n",
    "    plt.title(f'błąd uczenia {error_type}   {regression_train_file[11:-4]}')\n",
    "    plt.xlabel('nr kroku uczenia')\n",
    "    plt.ylabel('błąd')\n",
    "    plt.savefig(f'wykresy/{now}_error_{regression_train_file[11:-4]}_{error_type}_{len(hidden_layers)}_hidden_layers.jpg')\n",
    "    plt.show()\n",
    "    \n",
    "    return parameters\n",
    "    "
   ]
  },
  {
   "cell_type": "code",
   "execution_count": 21,
   "metadata": {
    "scrolled": false
   },
   "outputs": [
    {
     "name": "stdout",
     "output_type": "stream",
     "text": [
      "ostatni blad po pierwiastkowaniu:  71.61250409635335\n"
     ]
    },
    {
     "data": {
      "image/png": "[encoded data removed]",
      "text/plain": [
       "<Figure size 432x288 with 1 Axes>"
      ]
     },
     "metadata": {
      "needs_background": "light"
     },
     "output_type": "display_data"
    }
   ],
   "source": [
    "new_parameters = neural_network_regression(x_train, y_train, layers, no_of_iterations = 5000) "
   ]
  },
  {
   "cell_type": "code",
   "execution_count": 22,
   "metadata": {},
   "outputs": [
    {
     "data": {
      "text/plain": [
       "{'W1': array([[-8.47875324e-01],\n",
       "        [-1.53693047e-01],\n",
       "        [-1.03279899e-01],\n",
       "        [-4.08096161e-04],\n",
       "        [-4.18876576e-05],\n",
       "        [-5.61440206e-03],\n",
       "        [-7.29995654e-03],\n",
       "        [-3.01165041e-01],\n",
       "        [-3.66544881e-01],\n",
       "        [-1.87591509e+00],\n",
       "        [-9.13105583e-01],\n",
       "        [-1.20360376e+00]]),\n",
       " 'b1': array([[ 6.81539215e+00],\n",
       "        [ 1.09618938e+00],\n",
       "        [ 7.36875158e-01],\n",
       "        [-4.50954703e-03],\n",
       "        [-1.05171080e-03],\n",
       "        [ 3.97653716e-02],\n",
       "        [ 1.67570998e-01],\n",
       "        [ 2.14981684e+00],\n",
       "        [ 3.03124663e+00],\n",
       "        [ 1.43330751e+01],\n",
       "        [ 6.98172898e+00],\n",
       "        [ 9.19493093e+00]]),\n",
       " 'W2': array([[-5.98668316e+00, -9.71520735e-01, -6.53856420e-01,\n",
       "          1.18313822e-02,  5.16469590e-03, -3.48225184e-02,\n",
       "         -1.46483275e-01, -1.90880402e+00, -2.66172032e+00,\n",
       "         -1.26009514e+01, -6.13789955e+00, -8.08376768e+00]]),\n",
       " 'b2': array([[-7.64430105]])}"
      ]
     },
     "execution_count": 22,
     "metadata": {},
     "output_type": "execute_result"
    }
   ],
   "source": [
    "new_parameters #parametry nauczonej sieci:"
   ]
  },
  {
   "cell_type": "code",
   "execution_count": 23,
   "metadata": {},
   "outputs": [],
   "source": [
    "def predict_regression(parameters, x_test, layers):\n",
    "    activation_functions = get_activation_functions(layers)\n",
    "    activation_values = {'0': x_test}\n",
    "    z_values = {}\n",
    "    \n",
    "    predicted_values_regression = all_layers_forward_propagation(parameters,activation_values,activation_functions,\n",
    "                                                     z_values, no_of_layers=len(layers))\n",
    "    return predicted_values_regression"
   ]
  },
  {
   "cell_type": "code",
   "execution_count": 24,
   "metadata": {
    "scrolled": true
   },
   "outputs": [
    {
     "name": "stdout",
     "output_type": "stream",
     "text": [
      "wykres działania sieci (regresji na nowych danych)\n",
      "regression\\data.square.train.500.csv\n"
     ]
    },
    {
     "data": {
      "image/png": "[encoded data removed]",
      "text/plain": [
       "<Figure size 432x288 with 1 Axes>"
      ]
     },
     "metadata": {
      "needs_background": "light"
     },
     "output_type": "display_data"
    },
    {
     "name": "stdout",
     "output_type": "stream",
     "text": [
      "wykres działania sieci (regresji na danych, na których sieć była uczona)\n",
      "regression\\data.square.train.500.csv\n"
     ]
    },
    {
     "data": {
      "image/png": "[encoded data removed]",
      "text/plain": [
       "<Figure size 432x288 with 1 Axes>"
      ]
     },
     "metadata": {
      "needs_background": "light"
     },
     "output_type": "display_data"
    }
   ],
   "source": [
    "y_predicted_values_regression = predict_regression(new_parameters, x_test, layers)\n",
    "\n",
    "\n",
    "#na danych testowych\n",
    "print(\"wykres działania sieci (regresji na nowych danych)\")\n",
    "print(regression_test_file)\n",
    "plt.scatter(*x_test,*y_test, color='blue', s=10)\n",
    "plt.scatter(*x_test,*y_predicted_values_regression, color='red', s=5)\n",
    "\n",
    "plt.title(error_type + '  ' + regression_test_file)\n",
    "plt.xlabel('x')\n",
    "plt.ylabel('y')\n",
    "\n",
    "plt.savefig(f'wykresy/{now}_{regression_test_file[11:-4]}_{error_type}__{len(hidden_layers)}_hidden_layers.jpg')\n",
    "plt.show()\n",
    "\n",
    "\n",
    "\n",
    "#na danych treningowych\n",
    "print(\"wykres działania sieci (regresji na danych, na których sieć była uczona)\")\n",
    "print(regression_train_file)\n",
    "y_train_predicted = predict_regression(new_parameters, x_train, layers)\n",
    "plt.scatter(*x_train,*y_train, color='blue', s=10)\n",
    "plt.scatter(*x_train,*y_train_predicted, color='red', s=5)\n",
    "\n",
    "plt.title(error_type + '  ' + regression_train_file)\n",
    "plt.xlabel('x')\n",
    "plt.ylabel('y')    \n",
    "plt.savefig(f'wykresy/{now}_{regression_train_file[11:-4]}_{error_type}__{len(hidden_layers)}_hidden_layers.jpg')\n",
    "plt.show()\n"
   ]
  },
  {
   "cell_type": "markdown",
   "metadata": {},
   "source": [
    "Poniższy cell uruchamiać jeśli chcemy sprawdzić powtarzalność wyników sieci"
   ]
  },
  {
   "cell_type": "code",
   "execution_count": 25,
   "metadata": {},
   "outputs": [
    {
     "name": "stdout",
     "output_type": "stream",
     "text": [
      "ostatni blad po pierwiastkowaniu:  71.61250409635335\n"
     ]
    },
    {
     "data": {
      "image/png": "[encoded data removed]",
      "text/plain": [
       "<Figure size 432x288 with 1 Axes>"
      ]
     },
     "metadata": {
      "needs_background": "light"
     },
     "output_type": "display_data"
    },
    {
     "name": "stdout",
     "output_type": "stream",
     "text": [
      "5128.350742950225\n",
      "5128.350742950225\n",
      "ostatni blad po pierwiastkowaniu:  18.478913882854965\n"
     ]
    },
    {
     "data": {
      "image/png": "[encoded data removed]",
      "text/plain": [
       "<Figure size 432x288 with 1 Axes>"
      ]
     },
     "metadata": {
      "needs_background": "light"
     },
     "output_type": "display_data"
    },
    {
     "name": "stdout",
     "output_type": "stream",
     "text": [
      "340.1701473716667\n",
      "340.1701473716667\n",
      "ostatni blad po pierwiastkowaniu:  40.20279298522952\n"
     ]
    },
    {
     "data": {
      "image/png": "[encoded data removed]",
      "text/plain": [
       "<Figure size 432x288 with 1 Axes>"
      ]
     },
     "metadata": {
      "needs_background": "light"
     },
     "output_type": "display_data"
    },
    {
     "name": "stdout",
     "output_type": "stream",
     "text": [
      "1531.4499833530492\n",
      "1531.4499833530492\n",
      "ostatni blad po pierwiastkowaniu:  71.61250409635335\n"
     ]
    },
    {
     "data": {
      "image/png": "[encoded data removed]",
      "text/plain": [
       "<Figure size 432x288 with 1 Axes>"
      ]
     },
     "metadata": {
      "needs_background": "light"
     },
     "output_type": "display_data"
    },
    {
     "name": "stdout",
     "output_type": "stream",
     "text": [
      "5128.350742950224\n",
      "5128.350742950224\n",
      "ostatni blad po pierwiastkowaniu:  40.07298758007574\n"
     ]
    },
    {
     "data": {
      "image/png": "[encoded data removed]",
      "text/plain": [
       "<Figure size 432x288 with 1 Axes>"
      ]
     },
     "metadata": {
      "needs_background": "light"
     },
     "output_type": "display_data"
    },
    {
     "name": "stdout",
     "output_type": "stream",
     "text": [
      "1522.2037494843216\n",
      "1522.2037494843216\n",
      "test errors [5128.350742950225, 340.1701473716667, 1531.4499833530492, 5128.350742950224, 1522.2037494843216]\n",
      "srednia: 2730.1050732218973\n",
      "odchylenie_std 2005.5300130836026\n",
      "min 340.1701473716667\n",
      "max 5128.350742950225\n",
      "========\n",
      "train_errors [5128.350742950225, 340.1701473716667, 1531.4499833530492, 5128.350742950224, 1522.2037494843216]\n",
      "srednia: 2730.1050732218973\n",
      "odchylenie_std 2005.5300130836026\n",
      "min 340.1701473716667\n",
      "max 5128.350742950225\n"
     ]
    }
   ],
   "source": [
    "test_errors = []\n",
    "train_errors = []\n",
    "\n",
    "for _ in range(5):\n",
    "    new_parameters = neural_network_regression(x_train, y_train, layers, no_of_iterations = 5000)\n",
    "    y_predicted_values_regression = predict_regression(new_parameters, x_test, layers) #testowe\n",
    "    test_errors.append(calculate_error(y_predicted_values_regression,y_test))\n",
    "    print(calculate_error(y_predicted_values_regression,y_test))\n",
    "    \n",
    "    y_predicted_train = predict_regression(new_parameters, x_train, layers)\n",
    "    train_errors.append(calculate_error(y_predicted_train, y_train))\n",
    "    print(calculate_error(y_predicted_train, y_train))\n",
    "    \n",
    "\n",
    "print('test errors', test_errors)\n",
    "print('srednia:', np.mean(test_errors))\n",
    "print('odchylenie_std', np.std(test_errors))\n",
    "print('min', np.min(test_errors))\n",
    "print('max', np.max(test_errors))\n",
    "print('========')\n",
    "print('train_errors', train_errors)\n",
    "print('srednia:', np.mean(train_errors))\n",
    "print('odchylenie_std', np.std(train_errors))\n",
    "print('min', np.min(train_errors))\n",
    "print('max', np.max(train_errors))"
   ]
  }
 ],
 "metadata": {
  "kernelspec": {
   "display_name": "Python 3",
   "language": "python",
   "name": "python3"
  },
  "language_info": {
   "codemirror_mode": {
    "name": "ipython",
    "version": 3
   },
   "file_extension": ".py",
   "mimetype": "text/x-python",
   "name": "python",
   "nbconvert_exporter": "python",
   "pygments_lexer": "ipython3",
   "version": "3.7.9"
  }
 },
 "nbformat": 4,
 "nbformat_minor": 4
}
